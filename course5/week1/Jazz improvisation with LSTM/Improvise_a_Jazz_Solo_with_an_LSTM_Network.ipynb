{
 "cells": [
  {
   "cell_type": "code",
   "execution_count": 8,
   "id": "7bc3b7a8",
   "metadata": {},
   "outputs": [],
   "source": [
    "import IPython\n",
    "import sys\n",
    "import matplotlib.pyplot as plt\n",
    "import numpy as np\n",
    "import tensorflow as tf\n",
    "\n",
    "from music21 import *\n",
    "from grammar import *\n",
    "from qa import *\n",
    "from preprocess import * \n",
    "from music_utils import *\n",
    "\n",
    "from data_utils import *\n",
    "from outputs import *\n",
    "from test_utils import *\n",
    "\n",
    "from tensorflow.keras.layers import Dense, Activation, Dropout, Input, LSTM, Reshape, Lambda, RepeatVector\n",
    "from tensorflow.keras.models import Model\n",
    "from tensorflow.keras.optimizers import Adam\n",
    "from tensorflow.keras.utils import to_categorical"
   ]
  },
  {
   "cell_type": "code",
   "execution_count": null,
   "id": "5e80aeea",
   "metadata": {},
   "outputs": [],
   "source": [
    "IPython.display.Audio('./data/30s_trained_model.mp3')"
   ]
  },
  {
   "cell_type": "code",
   "execution_count": null,
   "id": "0a5c111e",
   "metadata": {},
   "outputs": [],
   "source": [
    "X, Y, n_values, indices_values, chords = load_music_utils('data/original_metheny.mid')"
   ]
  },
  {
   "cell_type": "code",
   "execution_count": null,
   "id": "b1908e25",
   "metadata": {},
   "outputs": [],
   "source": [
    "!touch music21.py"
   ]
  },
  {
   "cell_type": "code",
   "execution_count": null,
   "id": "d4940aab",
   "metadata": {},
   "outputs": [],
   "source": [
    "conda install conda-build"
   ]
  },
  {
   "cell_type": "code",
   "execution_count": null,
   "id": "02caa7dd",
   "metadata": {},
   "outputs": [],
   "source": [
    "conda update -n base -c defaults conda"
   ]
  },
  {
   "cell_type": "code",
   "execution_count": null,
   "id": "6f637cda",
   "metadata": {},
   "outputs": [],
   "source": [
    " conda config --add channels conda-forge "
   ]
  },
  {
   "cell_type": "code",
   "execution_count": null,
   "id": "9d76369a",
   "metadata": {},
   "outputs": [],
   "source": [
    " conda config --set channel_priority strict "
   ]
  },
  {
   "cell_type": "code",
   "execution_count": null,
   "id": "b857c897",
   "metadata": {},
   "outputs": [],
   "source": [
    "conda install mamba"
   ]
  },
  {
   "cell_type": "code",
   "execution_count": null,
   "id": "bd990f61",
   "metadata": {},
   "outputs": [],
   "source": [
    "conda config --show channels"
   ]
  },
  {
   "cell_type": "code",
   "execution_count": null,
   "id": "6151d629",
   "metadata": {},
   "outputs": [],
   "source": [
    "conda install -c new_channel qt=5.12"
   ]
  },
  {
   "cell_type": "code",
   "execution_count": null,
   "id": "35f0ea9d",
   "metadata": {},
   "outputs": [],
   "source": [
    "conda upgrade -c defaults --all"
   ]
  },
  {
   "cell_type": "code",
   "execution_count": null,
   "id": "ebd99937",
   "metadata": {},
   "outputs": [],
   "source": [
    "conda install scipy --channel conda-forge --channel bioconda"
   ]
  },
  {
   "cell_type": "code",
   "execution_count": null,
   "id": "d723e9bb",
   "metadata": {},
   "outputs": [],
   "source": [
    "conda info"
   ]
  },
  {
   "cell_type": "code",
   "execution_count": null,
   "id": "7d628a0b",
   "metadata": {},
   "outputs": [],
   "source": [
    "conda config --add channels new_channel"
   ]
  },
  {
   "cell_type": "code",
   "execution_count": null,
   "id": "e260208d",
   "metadata": {},
   "outputs": [],
   "source": [
    "conda config --prepend channels new_channel"
   ]
  },
  {
   "cell_type": "code",
   "execution_count": null,
   "id": "f5b257d4",
   "metadata": {},
   "outputs": [],
   "source": [
    "conda config --append channels new_channel"
   ]
  },
  {
   "cell_type": "code",
   "execution_count": null,
   "id": "82ee2990",
   "metadata": {},
   "outputs": [],
   "source": [
    "conda config --remove 'new_channel'"
   ]
  },
  {
   "cell_type": "code",
   "execution_count": null,
   "id": "1b7ad61d",
   "metadata": {},
   "outputs": [],
   "source": [
    "conda config --remove channels new_channel"
   ]
  },
  {
   "cell_type": "code",
   "execution_count": null,
   "id": "50093aa0",
   "metadata": {},
   "outputs": [],
   "source": [
    "conda config --get channels"
   ]
  },
  {
   "cell_type": "code",
   "execution_count": null,
   "id": "dda47c72",
   "metadata": {},
   "outputs": [],
   "source": [
    "conda config --remove channels miniforge3"
   ]
  },
  {
   "cell_type": "code",
   "execution_count": null,
   "id": "84ba7e86",
   "metadata": {},
   "outputs": [],
   "source": [
    "conda create --name Deep-env python=3.7 -y"
   ]
  },
  {
   "cell_type": "code",
   "execution_count": null,
   "id": "6024f9c1",
   "metadata": {},
   "outputs": [],
   "source": [
    "conda install -c conda-forge tensorflow==2.8.0"
   ]
  },
  {
   "cell_type": "code",
   "execution_count": null,
   "id": "7c3ef02e",
   "metadata": {},
   "outputs": [],
   "source": [
    "!python -V"
   ]
  },
  {
   "cell_type": "code",
   "execution_count": 4,
   "id": "955c2d29",
   "metadata": {},
   "outputs": [
    {
     "name": "stdout",
     "output_type": "stream",
     "text": [
      "Collecting matplotlib==3.5\n",
      "  Downloading matplotlib-3.5.0-cp38-cp38-macosx_11_0_arm64.whl (7.1 MB)\n",
      "\u001b[2K     \u001b[90m━━━━━━━━━━━━━━━━━━━━━━━━━━━━━━━━━━━━━━━━\u001b[0m \u001b[32m7.1/7.1 MB\u001b[0m \u001b[31m2.6 MB/s\u001b[0m eta \u001b[36m0:00:00\u001b[0m00:01\u001b[0m00:01\u001b[0m0m\n",
      "\u001b[?25hCollecting cycler>=0.10\n",
      "  Using cached cycler-0.11.0-py3-none-any.whl (6.4 kB)\n",
      "Collecting kiwisolver>=1.0.1\n",
      "  Downloading kiwisolver-1.4.4-cp38-cp38-macosx_11_0_arm64.whl (63 kB)\n",
      "\u001b[2K     \u001b[90m━━━━━━━━━━━━━━━━━━━━━━━━━━━━━━━━━━━━━━━━\u001b[0m \u001b[32m63.2/63.2 kB\u001b[0m \u001b[31m2.2 MB/s\u001b[0m eta \u001b[36m0:00:00\u001b[0m\n",
      "\u001b[?25hCollecting setuptools-scm>=4\n",
      "  Downloading setuptools_scm-7.1.0-py3-none-any.whl (43 kB)\n",
      "\u001b[2K     \u001b[90m━━━━━━━━━━━━━━━━━━━━━━━━━━━━━━━━━━━━━━━━\u001b[0m \u001b[32m43.8/43.8 kB\u001b[0m \u001b[31m1.3 MB/s\u001b[0m eta \u001b[36m0:00:00\u001b[0m\n",
      "\u001b[?25hRequirement already satisfied: packaging>=20.0 in /Users/niloufar/Library/Application Support/virtualenv/venv38/lib/python3.8/site-packages (from matplotlib==3.5) (22.0)\n",
      "Collecting pyparsing>=2.2.1\n",
      "  Using cached pyparsing-3.0.9-py3-none-any.whl (98 kB)\n",
      "Collecting pillow>=6.2.0\n",
      "  Downloading Pillow-9.3.0-cp38-cp38-macosx_11_0_arm64.whl (2.9 MB)\n",
      "\u001b[2K     \u001b[90m━━━━━━━━━━━━━━━━━━━━━━━━━━━━━━━━━━━━━━━━\u001b[0m \u001b[32m2.9/2.9 MB\u001b[0m \u001b[31m3.5 MB/s\u001b[0m eta \u001b[36m0:00:00\u001b[0m00:01\u001b[0m00:01\u001b[0mm\n",
      "\u001b[?25hRequirement already satisfied: numpy>=1.17 in /Users/niloufar/Library/Application Support/virtualenv/venv38/lib/python3.8/site-packages (from matplotlib==3.5) (1.24.0)\n",
      "Collecting fonttools>=4.22.0\n",
      "  Downloading fonttools-4.38.0-py3-none-any.whl (965 kB)\n",
      "\u001b[2K     \u001b[90m━━━━━━━━━━━━━━━━━━━━━━━━━━━━━━━━━━━━━━━\u001b[0m \u001b[32m965.4/965.4 kB\u001b[0m \u001b[31m8.1 MB/s\u001b[0m eta \u001b[36m0:00:00\u001b[0m00:01\u001b[0m00:01\u001b[0m\n",
      "\u001b[?25hRequirement already satisfied: python-dateutil>=2.7 in /Users/niloufar/Library/Application Support/virtualenv/venv38/lib/python3.8/site-packages (from matplotlib==3.5) (2.8.2)\n",
      "Requirement already satisfied: six>=1.5 in /Users/niloufar/Library/Application Support/virtualenv/venv38/lib/python3.8/site-packages (from python-dateutil>=2.7->matplotlib==3.5) (1.16.0)\n",
      "Collecting tomli>=1.0.0\n",
      "  Using cached tomli-2.0.1-py3-none-any.whl (12 kB)\n",
      "Requirement already satisfied: setuptools in /Users/niloufar/Library/Application Support/virtualenv/venv38/lib/python3.8/site-packages (from setuptools-scm>=4->matplotlib==3.5) (63.2.0)\n",
      "Requirement already satisfied: typing-extensions in /Users/niloufar/Library/Application Support/virtualenv/venv38/lib/python3.8/site-packages (from setuptools-scm>=4->matplotlib==3.5) (4.4.0)\n",
      "Installing collected packages: tomli, pyparsing, pillow, kiwisolver, fonttools, cycler, setuptools-scm, matplotlib\n",
      "Successfully installed cycler-0.11.0 fonttools-4.38.0 kiwisolver-1.4.4 matplotlib-3.5.0 pillow-9.3.0 pyparsing-3.0.9 setuptools-scm-7.1.0 tomli-2.0.1\n",
      "Note: you may need to restart the kernel to use updated packages.\n"
     ]
    }
   ],
   "source": [
    "pip install matplotlib==3.5"
   ]
  },
  {
   "cell_type": "code",
   "execution_count": 6,
   "id": "c2e3ee33",
   "metadata": {},
   "outputs": [
    {
     "name": "stdout",
     "output_type": "stream",
     "text": [
      "Collecting ffmpeg\n",
      "  Downloading ffmpeg-1.4.tar.gz (5.1 kB)\n",
      "  Preparing metadata (setup.py) ... \u001b[?25ldone\n",
      "\u001b[?25hBuilding wheels for collected packages: ffmpeg\n",
      "  Building wheel for ffmpeg (setup.py) ... \u001b[?25ldone\n",
      "\u001b[?25h  Created wheel for ffmpeg: filename=ffmpeg-1.4-py3-none-any.whl size=6083 sha256=aa93c01dbcff8d4f0cfcd080cf7565ca0d9fbaf125a6137c1e39e01d7af4e8f7\n",
      "  Stored in directory: /Users/niloufar/Library/Caches/pip/wheels/73/06/06/6643f9a7a1bd631e6aa5653a0713f3d1e2e172ccfa22c35581\n",
      "Successfully built ffmpeg\n",
      "Installing collected packages: ffmpeg\n",
      "Successfully installed ffmpeg-1.4\n",
      "Note: you may need to restart the kernel to use updated packages.\n"
     ]
    }
   ],
   "source": [
    "pip install ffmpeg"
   ]
  },
  {
   "cell_type": "code",
   "execution_count": null,
   "id": "47541d12",
   "metadata": {},
   "outputs": [],
   "source": []
  }
 ],
 "metadata": {
  "kernelspec": {
   "display_name": "venv38",
   "language": "python",
   "name": "venv38"
  },
  "language_info": {
   "codemirror_mode": {
    "name": "ipython",
    "version": 3
   },
   "file_extension": ".py",
   "mimetype": "text/x-python",
   "name": "python",
   "nbconvert_exporter": "python",
   "pygments_lexer": "ipython3",
   "version": "3.8.9"
  }
 },
 "nbformat": 4,
 "nbformat_minor": 5
}
