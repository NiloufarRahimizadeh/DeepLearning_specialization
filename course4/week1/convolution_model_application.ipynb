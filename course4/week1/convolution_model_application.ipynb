{
 "cells": [
  {
   "cell_type": "code",
   "execution_count": 1,
   "id": "aa98b7a6",
   "metadata": {},
   "outputs": [
    {
     "name": "stderr",
     "output_type": "stream",
     "text": [
      "/opt/homebrew/lib/python3.9/site-packages/h5py/__init__.py:36: UserWarning: h5py is running against HDF5 1.12.2 when it was built against 1.12.1, this may cause problems\n",
      "  _warn((\"h5py is running against HDF5 {0} when it was built against {1}, \"\n"
     ]
    }
   ],
   "source": [
    "import math\n",
    "import numpy as np\n",
    "import h5py\n",
    "import matplotlib.pyplot as plt\n",
    "import scipy\n",
    "from scipy import ndimage\n",
    "from PIL import Image\n",
    "import pandas as pd\n",
    "import tensorflow as tf\n",
    "import tensorflow.keras.layers as tfl\n",
    "from tensorflow.python.framework import ops\n",
    "from cnn_utils import *\n",
    "\n",
    "%matplotlib inline\n",
    "np.random.seed(1)"
   ]
  },
  {
   "cell_type": "code",
   "execution_count": 2,
   "id": "8f15b598",
   "metadata": {},
   "outputs": [],
   "source": [
    "X_train_orig, Y_train_orig, X_test_orig, Y_test_orig, classes = load_happy_dataset()"
   ]
  },
  {
   "cell_type": "code",
   "execution_count": 3,
   "id": "ac7d68a7",
   "metadata": {},
   "outputs": [
    {
     "data": {
      "text/plain": [
       "(600, 64, 64, 3)"
      ]
     },
     "execution_count": 3,
     "metadata": {},
     "output_type": "execute_result"
    }
   ],
   "source": [
    "index = 6\n",
    "X_train_orig.shape"
   ]
  },
  {
   "cell_type": "code",
   "execution_count": 4,
   "id": "46848870",
   "metadata": {},
   "outputs": [
    {
     "data": {
      "image/png": "[encoded data removed]",
      "text/plain": [
       "<Figure size 432x288 with 1 Axes>"
      ]
     },
     "metadata": {
      "needs_background": "light"
     },
     "output_type": "display_data"
    }
   ],
   "source": [
    "im = X_train_orig[index]\n",
    "plt.imshow(im)\n",
    "plt.show()"
   ]
  },
  {
   "cell_type": "code",
   "execution_count": 5,
   "id": "7b845e44",
   "metadata": {},
   "outputs": [
    {
     "name": "stdout",
     "output_type": "stream",
     "text": [
      "number of training examples = 600\n",
      "number of test examples = 150\n",
      "X_train shape: (600, 64, 64, 3)\n",
      "Y_train shape: (600, 1)\n",
      "X_test shape: (150, 64, 64, 3)\n",
      "Y_test shape: (150, 1)\n"
     ]
    }
   ],
   "source": [
    "# Normalize image vectors\n",
    "X_train = X_train_orig/255.\n",
    "X_test = X_test_orig/255.\n",
    "\n",
    "# Reshape\n",
    "Y_train = Y_train_orig.T\n",
    "Y_test = Y_test_orig.T\n",
    "\n",
    "print (\"number of training examples = \" + str(X_train.shape[0]))\n",
    "print (\"number of test examples = \" + str(X_test.shape[0]))\n",
    "print (\"X_train shape: \" + str(X_train.shape))\n",
    "print (\"Y_train shape: \" + str(Y_train.shape))\n",
    "print (\"X_test shape: \" + str(X_test.shape))\n",
    "print (\"Y_test shape: \" + str(Y_test.shape))"
   ]
  },
  {
   "cell_type": "code",
   "execution_count": 6,
   "id": "47cb035d",
   "metadata": {},
   "outputs": [],
   "source": [
    "def happymodel():\n",
    "    model = tf.keras.Sequential([\n",
    "        tf.keras.Input(shape=(64, 64,3)),\n",
    "        tfl.ZeroPadding2D(padding=3),\n",
    "        tfl.Conv2D(filters=32, kernel_size=7, strides=1),\n",
    "        tfl.BatchNormalization(axis=3, momentum=0.99, epsilon=0.001),\n",
    "        tfl.ReLU(),\n",
    "        tfl.MaxPool2D(),\n",
    "        tfl.Flatten(),\n",
    "        tfl.Dense(1, activation=\"sigmoid\")  \n",
    "    ])\n",
    "    \n",
    "    return model"
   ]
  },
  {
   "cell_type": "code",
   "execution_count": 7,
   "id": "cb40224a",
   "metadata": {},
   "outputs": [
    {
     "name": "stdout",
     "output_type": "stream",
     "text": [
      "Model: \"sequential\"\n",
      "_________________________________________________________________\n",
      " Layer (type)                Output Shape              Param #   \n",
      "=================================================================\n",
      " zero_padding2d (ZeroPadding  (None, 70, 70, 3)        0         \n",
      " 2D)                                                             \n",
      "                                                                 \n",
      " conv2d (Conv2D)             (None, 64, 64, 32)        4736      \n",
      "                                                                 \n",
      " batch_normalization (BatchN  (None, 64, 64, 32)       128       \n",
      " ormalization)                                                   \n",
      "                                                                 \n",
      " re_lu (ReLU)                (None, 64, 64, 32)        0         \n",
      "                                                                 \n",
      " max_pooling2d (MaxPooling2D  (None, 32, 32, 32)       0         \n",
      " )                                                               \n",
      "                                                                 \n",
      " flatten (Flatten)           (None, 32768)             0         \n",
      "                                                                 \n",
      " dense (Dense)               (None, 1)                 32769     \n",
      "                                                                 \n",
      "=================================================================\n",
      "Total params: 37,633\n",
      "Trainable params: 37,569\n",
      "Non-trainable params: 64\n",
      "_________________________________________________________________\n"
     ]
    }
   ],
   "source": [
    "happy_model = happymodel()\n",
    "happy_model.compile(optimizer='adam',\n",
    "                  loss='categorical_crossentropy',\n",
    "                  metrics=['accuracy'])\n",
    "happy_model.summary()"
   ]
  },
  {
   "cell_type": "code",
   "execution_count": 8,
   "id": "6d70ee85",
   "metadata": {},
   "outputs": [
    {
     "name": "stdout",
     "output_type": "stream",
     "text": [
      "Epoch 1/10\n"
     ]
    },
    {
     "name": "stderr",
     "output_type": "stream",
     "text": [
      "2022-06-07 00:47:58.613488: W tensorflow/core/platform/profile_utils/cpu_utils.cc:128] Failed to get CPU frequency: 0 Hz\n"
     ]
    },
    {
     "name": "stdout",
     "output_type": "stream",
     "text": [
      "38/38 [==============================] - 1s 20ms/step - loss: 0.0000e+00 - accuracy: 0.5000\n",
      "Epoch 2/10\n",
      "38/38 [==============================] - 1s 21ms/step - loss: 0.0000e+00 - accuracy: 0.5000\n",
      "Epoch 3/10\n",
      "38/38 [==============================] - 1s 20ms/step - loss: 0.0000e+00 - accuracy: 0.5000\n",
      "Epoch 4/10\n",
      "38/38 [==============================] - 1s 20ms/step - loss: 0.0000e+00 - accuracy: 0.5000\n",
      "Epoch 5/10\n",
      "38/38 [==============================] - 1s 21ms/step - loss: 0.0000e+00 - accuracy: 0.5000\n",
      "Epoch 6/10\n",
      "38/38 [==============================] - 1s 21ms/step - loss: 0.0000e+00 - accuracy: 0.5000\n",
      "Epoch 7/10\n",
      "38/38 [==============================] - 1s 21ms/step - loss: 0.0000e+00 - accuracy: 0.5000\n",
      "Epoch 8/10\n",
      "38/38 [==============================] - 1s 21ms/step - loss: 0.0000e+00 - accuracy: 0.5000\n",
      "Epoch 9/10\n",
      "38/38 [==============================] - 1s 21ms/step - loss: 0.0000e+00 - accuracy: 0.5000\n",
      "Epoch 10/10\n",
      "38/38 [==============================] - 1s 21ms/step - loss: 0.0000e+00 - accuracy: 0.5000\n"
     ]
    },
    {
     "data": {
      "text/plain": [
       "<keras.callbacks.History at 0x15f9bd4c0>"
      ]
     },
     "execution_count": 8,
     "metadata": {},
     "output_type": "execute_result"
    }
   ],
   "source": [
    "happy_model.fit(X_train, Y_train, epochs=10, batch_size=16)"
   ]
  },
  {
   "cell_type": "code",
   "execution_count": 9,
   "id": "b2c6e505",
   "metadata": {},
   "outputs": [
    {
     "name": "stdout",
     "output_type": "stream",
     "text": [
      "5/5 [==============================] - 0s 11ms/step - loss: 0.0000e+00 - accuracy: 0.4400\n"
     ]
    },
    {
     "data": {
      "text/plain": [
       "[0.0, 0.4399999976158142]"
      ]
     },
     "execution_count": 9,
     "metadata": {},
     "output_type": "execute_result"
    }
   ],
   "source": [
    "happy_model.evaluate(X_test, Y_test)"
   ]
  },
  {
   "cell_type": "markdown",
   "id": "dc352257",
   "metadata": {},
   "source": [
    "Easy, right? But what if you need to build a model with shared layers, branches, or multiple inputs and outputs? This is where Sequential, with its beautifully simple yet limited functionality, won't be able to help you."
   ]
  },
  {
   "cell_type": "code",
   "execution_count": 10,
   "id": "7d5b12d0",
   "metadata": {},
   "outputs": [],
   "source": [
    "X_train_orig, Y_train_orig, X_test_orig, Y_test_orig, classes = load_signs_dataset()"
   ]
  },
  {
   "cell_type": "code",
   "execution_count": 11,
   "id": "51baab1f",
   "metadata": {},
   "outputs": [
    {
     "name": "stdout",
     "output_type": "stream",
     "text": [
      "y = 4\n"
     ]
    },
    {
     "data": {
      "image/png": "[encoded data removed]",
      "text/plain": [
       "<Figure size 432x288 with 1 Axes>"
      ]
     },
     "metadata": {
      "needs_background": "light"
     },
     "output_type": "display_data"
    }
   ],
   "source": [
    "index = 9\n",
    "plt.imshow(X_train_orig[index])\n",
    "print (\"y = \" + str(np.squeeze(Y_train_orig[:, index])))"
   ]
  },
  {
   "cell_type": "code",
   "execution_count": 12,
   "id": "7f631076",
   "metadata": {},
   "outputs": [
    {
     "name": "stdout",
     "output_type": "stream",
     "text": [
      "(1, 1, 3, 1)\n",
      "(3,)\n"
     ]
    },
    {
     "data": {
      "text/plain": [
       "(array([[[[0],\n",
       "          [1],\n",
       "          [2]]]]),\n",
       " array([0, 1, 2]))"
      ]
     },
     "execution_count": 12,
     "metadata": {},
     "output_type": "execute_result"
    }
   ],
   "source": [
    "x = np.array([[[[0], [1], [2]]]])\n",
    "print(x.shape)\n",
    "print(np.squeeze(x).shape)\n",
    "x, np.squeeze(x)"
   ]
  },
  {
   "cell_type": "code",
   "execution_count": 13,
   "id": "c6d3cac1",
   "metadata": {},
   "outputs": [
    {
     "name": "stdout",
     "output_type": "stream",
     "text": [
      "number of training examples = 1080\n",
      "number of test examples = 120\n",
      "X_train shape: (1080, 64, 64, 3)\n",
      "Y_train shape: (1080, 6)\n",
      "X_test shape: (120, 64, 64, 3)\n",
      "Y_test shape: (120, 6)\n"
     ]
    }
   ],
   "source": [
    "X_train = X_train_orig / 255.\n",
    "X_test = X_test_orig / 255. \n",
    "\n",
    "Y_train = convert_to_one_hot(Y_train_orig, 6).T\n",
    "Y_test = convert_to_one_hot(Y_test_orig, 6).T\n",
    "\n",
    "print (\"number of training examples = \" + str(X_train.shape[0]))\n",
    "print (\"number of test examples = \" + str(X_test.shape[0]))\n",
    "print (\"X_train shape: \" + str(X_train.shape))\n",
    "print (\"Y_train shape: \" + str(Y_train.shape))\n",
    "print (\"X_test shape: \" + str(X_test.shape))\n",
    "print (\"Y_test shape: \" + str(Y_test.shape))"
   ]
  },
  {
   "cell_type": "code",
   "execution_count": 22,
   "id": "cefbc09e",
   "metadata": {},
   "outputs": [],
   "source": [
    "def convolutional_model(input_shape):\n",
    "    \n",
    "    input_img = tf.keras.Input(shape=input_shape)\n",
    "    Z1 = tfl.Conv2D(filters=8, kernel_size=4, padding=\"same\", strides=1)(input_img)\n",
    "    A1 = tfl.ReLU()(Z1)\n",
    "    \n",
    "    P1 = tfl.MaxPool2D(pool_size=8, strides=8, padding=\"SAME\")(A1)\n",
    "    \n",
    "    Z2 = tfl.Conv2D(filters=16, kernel_size=2, padding=\"same\", strides=1)(P1)\n",
    "    A2 = tfl.ReLU()(Z2)\n",
    "    \n",
    "    P2 = tfl.MaxPool2D(pool_size=4, strides=4, padding=\"SAME\")(A2)\n",
    "    \n",
    "    F = tfl.Flatten()(P2)\n",
    "    \n",
    "    outputs = tfl.Dense(units=6, activation=\"softmax\")(F)\n",
    "    model = tf.keras.Model(inputs=input_img, outputs=outputs)\n",
    "    \n",
    "    return model\n"
   ]
  },
  {
   "cell_type": "code",
   "execution_count": 23,
   "id": "d59aa913",
   "metadata": {},
   "outputs": [
    {
     "ename": "AttributeError",
     "evalue": "'tuple' object has no attribute 'compile'",
     "output_type": "error",
     "traceback": [
      "\u001b[0;31m---------------------------------------------------------------------------\u001b[0m",
      "\u001b[0;31mAttributeError\u001b[0m                            Traceback (most recent call last)",
      "Input \u001b[0;32mIn [23]\u001b[0m, in \u001b[0;36m<cell line: 2>\u001b[0;34m()\u001b[0m\n\u001b[1;32m      1\u001b[0m conv_model \u001b[38;5;241m=\u001b[39m convolutional_model((\u001b[38;5;241m64\u001b[39m, \u001b[38;5;241m64\u001b[39m, \u001b[38;5;241m3\u001b[39m))\n\u001b[0;32m----> 2\u001b[0m \u001b[43mconv_model\u001b[49m\u001b[38;5;241;43m.\u001b[39;49m\u001b[43mcompile\u001b[49m(optimizer\u001b[38;5;241m=\u001b[39m\u001b[38;5;124m'\u001b[39m\u001b[38;5;124madam\u001b[39m\u001b[38;5;124m'\u001b[39m,\n\u001b[1;32m      3\u001b[0m                   loss\u001b[38;5;241m=\u001b[39m\u001b[38;5;124m'\u001b[39m\u001b[38;5;124mcategorical_crossentropy\u001b[39m\u001b[38;5;124m'\u001b[39m,\n\u001b[1;32m      4\u001b[0m                   metrics\u001b[38;5;241m=\u001b[39m[\u001b[38;5;124m'\u001b[39m\u001b[38;5;124maccuracy\u001b[39m\u001b[38;5;124m'\u001b[39m])\n\u001b[1;32m      5\u001b[0m conv_model\u001b[38;5;241m.\u001b[39msummary()\n",
      "\u001b[0;31mAttributeError\u001b[0m: 'tuple' object has no attribute 'compile'"
     ]
    }
   ],
   "source": [
    "conv_model = convolutional_model((64, 64, 3))\n",
    "conv_model.compile(optimizer='adam',\n",
    "                  loss='categorical_crossentropy',\n",
    "                  metrics=['accuracy'])\n",
    "conv_model.summary()"
   ]
  },
  {
   "cell_type": "code",
   "execution_count": 16,
   "id": "ad8a7a96",
   "metadata": {},
   "outputs": [
    {
     "name": "stdout",
     "output_type": "stream",
     "text": [
      "Epoch 1/100\n",
      "17/17 [==============================] - 0s 19ms/step - loss: 1.7982 - accuracy: 0.1731 - val_loss: 1.7862 - val_accuracy: 0.1750\n",
      "Epoch 2/100\n",
      "17/17 [==============================] - 0s 16ms/step - loss: 1.7846 - accuracy: 0.2139 - val_loss: 1.7769 - val_accuracy: 0.2750\n",
      "Epoch 3/100\n",
      "17/17 [==============================] - 0s 17ms/step - loss: 1.7749 - accuracy: 0.2843 - val_loss: 1.7673 - val_accuracy: 0.3083\n",
      "Epoch 4/100\n",
      "17/17 [==============================] - 0s 16ms/step - loss: 1.7656 - accuracy: 0.3361 - val_loss: 1.7577 - val_accuracy: 0.3750\n",
      "Epoch 5/100\n",
      "17/17 [==============================] - 0s 16ms/step - loss: 1.7565 - accuracy: 0.3435 - val_loss: 1.7475 - val_accuracy: 0.4167\n",
      "Epoch 6/100\n",
      "17/17 [==============================] - 0s 16ms/step - loss: 1.7464 - accuracy: 0.3759 - val_loss: 1.7355 - val_accuracy: 0.4083\n",
      "Epoch 7/100\n",
      "17/17 [==============================] - 0s 16ms/step - loss: 1.7337 - accuracy: 0.4056 - val_loss: 1.7226 - val_accuracy: 0.4083\n",
      "Epoch 8/100\n",
      "17/17 [==============================] - 0s 16ms/step - loss: 1.7194 - accuracy: 0.4065 - val_loss: 1.7063 - val_accuracy: 0.4833\n",
      "Epoch 9/100\n",
      "17/17 [==============================] - 0s 16ms/step - loss: 1.7029 - accuracy: 0.4278 - val_loss: 1.6880 - val_accuracy: 0.4667\n",
      "Epoch 10/100\n",
      "17/17 [==============================] - 0s 16ms/step - loss: 1.6838 - accuracy: 0.4361 - val_loss: 1.6673 - val_accuracy: 0.4833\n",
      "Epoch 11/100\n",
      "17/17 [==============================] - 0s 16ms/step - loss: 1.6616 - accuracy: 0.4463 - val_loss: 1.6442 - val_accuracy: 0.4667\n",
      "Epoch 12/100\n",
      "17/17 [==============================] - 0s 16ms/step - loss: 1.6365 - accuracy: 0.4481 - val_loss: 1.6192 - val_accuracy: 0.5000\n",
      "Epoch 13/100\n",
      "17/17 [==============================] - 0s 16ms/step - loss: 1.6073 - accuracy: 0.4667 - val_loss: 1.5903 - val_accuracy: 0.5083\n",
      "Epoch 14/100\n",
      "17/17 [==============================] - 0s 16ms/step - loss: 1.5752 - accuracy: 0.4750 - val_loss: 1.5583 - val_accuracy: 0.5000\n",
      "Epoch 15/100\n",
      "17/17 [==============================] - 0s 16ms/step - loss: 1.5402 - accuracy: 0.4898 - val_loss: 1.5226 - val_accuracy: 0.5417\n",
      "Epoch 16/100\n",
      "17/17 [==============================] - 0s 16ms/step - loss: 1.5028 - accuracy: 0.5083 - val_loss: 1.4841 - val_accuracy: 0.5500\n",
      "Epoch 17/100\n",
      "17/17 [==============================] - 0s 16ms/step - loss: 1.4654 - accuracy: 0.5231 - val_loss: 1.4472 - val_accuracy: 0.5667\n",
      "Epoch 18/100\n",
      "17/17 [==============================] - 0s 17ms/step - loss: 1.4271 - accuracy: 0.5269 - val_loss: 1.4114 - val_accuracy: 0.5500\n",
      "Epoch 19/100\n",
      "17/17 [==============================] - 0s 16ms/step - loss: 1.3890 - accuracy: 0.5417 - val_loss: 1.3765 - val_accuracy: 0.5417\n",
      "Epoch 20/100\n",
      "17/17 [==============================] - 0s 17ms/step - loss: 1.3515 - accuracy: 0.5481 - val_loss: 1.3406 - val_accuracy: 0.5750\n",
      "Epoch 21/100\n",
      "17/17 [==============================] - 0s 16ms/step - loss: 1.3149 - accuracy: 0.5565 - val_loss: 1.3063 - val_accuracy: 0.5750\n",
      "Epoch 22/100\n",
      "17/17 [==============================] - 0s 16ms/step - loss: 1.2794 - accuracy: 0.5676 - val_loss: 1.2736 - val_accuracy: 0.5583\n",
      "Epoch 23/100\n",
      "17/17 [==============================] - 0s 16ms/step - loss: 1.2447 - accuracy: 0.5722 - val_loss: 1.2419 - val_accuracy: 0.5583\n",
      "Epoch 24/100\n",
      "17/17 [==============================] - 0s 17ms/step - loss: 1.2108 - accuracy: 0.5861 - val_loss: 1.2108 - val_accuracy: 0.5833\n",
      "Epoch 25/100\n",
      "17/17 [==============================] - 0s 16ms/step - loss: 1.1767 - accuracy: 0.5981 - val_loss: 1.1809 - val_accuracy: 0.6250\n",
      "Epoch 26/100\n",
      "17/17 [==============================] - 0s 16ms/step - loss: 1.1461 - accuracy: 0.6019 - val_loss: 1.1493 - val_accuracy: 0.6250\n",
      "Epoch 27/100\n",
      "17/17 [==============================] - 0s 16ms/step - loss: 1.1122 - accuracy: 0.6139 - val_loss: 1.1195 - val_accuracy: 0.6417\n",
      "Epoch 28/100\n",
      "17/17 [==============================] - 0s 17ms/step - loss: 1.0798 - accuracy: 0.6259 - val_loss: 1.0892 - val_accuracy: 0.6583\n",
      "Epoch 29/100\n",
      "17/17 [==============================] - 0s 16ms/step - loss: 1.0491 - accuracy: 0.6519 - val_loss: 1.0595 - val_accuracy: 0.6500\n",
      "Epoch 30/100\n",
      "17/17 [==============================] - 0s 16ms/step - loss: 1.0206 - accuracy: 0.6630 - val_loss: 1.0306 - val_accuracy: 0.6667\n",
      "Epoch 31/100\n",
      "17/17 [==============================] - 0s 16ms/step - loss: 0.9923 - accuracy: 0.6694 - val_loss: 1.0062 - val_accuracy: 0.6583\n",
      "Epoch 32/100\n",
      "17/17 [==============================] - 0s 16ms/step - loss: 0.9662 - accuracy: 0.6769 - val_loss: 0.9790 - val_accuracy: 0.6833\n",
      "Epoch 33/100\n",
      "17/17 [==============================] - 0s 16ms/step - loss: 0.9410 - accuracy: 0.6880 - val_loss: 0.9591 - val_accuracy: 0.6750\n",
      "Epoch 34/100\n",
      "17/17 [==============================] - 0s 16ms/step - loss: 0.9178 - accuracy: 0.6991 - val_loss: 0.9338 - val_accuracy: 0.6917\n",
      "Epoch 35/100\n",
      "17/17 [==============================] - 0s 16ms/step - loss: 0.8950 - accuracy: 0.7120 - val_loss: 0.9156 - val_accuracy: 0.6917\n",
      "Epoch 36/100\n",
      "17/17 [==============================] - 0s 16ms/step - loss: 0.8745 - accuracy: 0.7194 - val_loss: 0.8934 - val_accuracy: 0.6917\n",
      "Epoch 37/100\n",
      "17/17 [==============================] - 0s 17ms/step - loss: 0.8540 - accuracy: 0.7213 - val_loss: 0.8742 - val_accuracy: 0.7000\n",
      "Epoch 38/100\n",
      "17/17 [==============================] - 0s 17ms/step - loss: 0.8349 - accuracy: 0.7361 - val_loss: 0.8589 - val_accuracy: 0.6917\n",
      "Epoch 39/100\n",
      "17/17 [==============================] - 0s 16ms/step - loss: 0.8160 - accuracy: 0.7380 - val_loss: 0.8425 - val_accuracy: 0.7083\n",
      "Epoch 40/100\n",
      "17/17 [==============================] - 0s 16ms/step - loss: 0.7986 - accuracy: 0.7407 - val_loss: 0.8268 - val_accuracy: 0.7083\n",
      "Epoch 41/100\n",
      "17/17 [==============================] - 0s 16ms/step - loss: 0.7822 - accuracy: 0.7463 - val_loss: 0.8123 - val_accuracy: 0.7083\n",
      "Epoch 42/100\n",
      "17/17 [==============================] - 0s 16ms/step - loss: 0.7662 - accuracy: 0.7556 - val_loss: 0.7984 - val_accuracy: 0.7083\n",
      "Epoch 43/100\n",
      "17/17 [==============================] - 0s 17ms/step - loss: 0.7507 - accuracy: 0.7620 - val_loss: 0.7868 - val_accuracy: 0.7083\n",
      "Epoch 44/100\n",
      "17/17 [==============================] - 0s 16ms/step - loss: 0.7366 - accuracy: 0.7648 - val_loss: 0.7720 - val_accuracy: 0.7167\n",
      "Epoch 45/100\n",
      "17/17 [==============================] - 0s 16ms/step - loss: 0.7228 - accuracy: 0.7676 - val_loss: 0.7621 - val_accuracy: 0.7250\n",
      "Epoch 46/100\n",
      "17/17 [==============================] - 0s 17ms/step - loss: 0.7102 - accuracy: 0.7694 - val_loss: 0.7513 - val_accuracy: 0.7250\n",
      "Epoch 47/100\n",
      "17/17 [==============================] - 0s 17ms/step - loss: 0.6976 - accuracy: 0.7713 - val_loss: 0.7398 - val_accuracy: 0.7250\n",
      "Epoch 48/100\n",
      "17/17 [==============================] - 0s 17ms/step - loss: 0.6860 - accuracy: 0.7787 - val_loss: 0.7305 - val_accuracy: 0.7250\n",
      "Epoch 49/100\n",
      "17/17 [==============================] - 0s 17ms/step - loss: 0.6748 - accuracy: 0.7833 - val_loss: 0.7213 - val_accuracy: 0.7250\n",
      "Epoch 50/100\n",
      "17/17 [==============================] - 0s 16ms/step - loss: 0.6638 - accuracy: 0.7889 - val_loss: 0.7130 - val_accuracy: 0.7250\n",
      "Epoch 51/100\n",
      "17/17 [==============================] - 0s 17ms/step - loss: 0.6531 - accuracy: 0.7917 - val_loss: 0.7032 - val_accuracy: 0.7417\n",
      "Epoch 52/100\n",
      "17/17 [==============================] - 0s 17ms/step - loss: 0.6429 - accuracy: 0.7935 - val_loss: 0.6960 - val_accuracy: 0.7417\n",
      "Epoch 53/100\n",
      "17/17 [==============================] - 0s 17ms/step - loss: 0.6336 - accuracy: 0.7963 - val_loss: 0.6863 - val_accuracy: 0.7333\n",
      "Epoch 54/100\n",
      "17/17 [==============================] - 0s 16ms/step - loss: 0.6237 - accuracy: 0.8019 - val_loss: 0.6792 - val_accuracy: 0.7333\n",
      "Epoch 55/100\n",
      "17/17 [==============================] - 0s 16ms/step - loss: 0.6147 - accuracy: 0.8056 - val_loss: 0.6723 - val_accuracy: 0.7417\n",
      "Epoch 56/100\n",
      "17/17 [==============================] - 0s 16ms/step - loss: 0.6057 - accuracy: 0.8083 - val_loss: 0.6651 - val_accuracy: 0.7667\n",
      "Epoch 57/100\n",
      "17/17 [==============================] - 0s 17ms/step - loss: 0.5970 - accuracy: 0.8139 - val_loss: 0.6582 - val_accuracy: 0.7667\n",
      "Epoch 58/100\n",
      "17/17 [==============================] - 0s 16ms/step - loss: 0.5888 - accuracy: 0.8167 - val_loss: 0.6516 - val_accuracy: 0.7583\n",
      "Epoch 59/100\n",
      "17/17 [==============================] - 0s 16ms/step - loss: 0.5806 - accuracy: 0.8231 - val_loss: 0.6449 - val_accuracy: 0.7583\n",
      "Epoch 60/100\n",
      "17/17 [==============================] - 0s 16ms/step - loss: 0.5727 - accuracy: 0.8269 - val_loss: 0.6387 - val_accuracy: 0.7583\n",
      "Epoch 61/100\n",
      "17/17 [==============================] - 0s 16ms/step - loss: 0.5650 - accuracy: 0.8278 - val_loss: 0.6323 - val_accuracy: 0.7583\n",
      "Epoch 62/100\n",
      "17/17 [==============================] - 0s 16ms/step - loss: 0.5576 - accuracy: 0.8296 - val_loss: 0.6247 - val_accuracy: 0.7583\n",
      "Epoch 63/100\n",
      "17/17 [==============================] - 0s 16ms/step - loss: 0.5505 - accuracy: 0.8324 - val_loss: 0.6189 - val_accuracy: 0.7583\n",
      "Epoch 64/100\n",
      "17/17 [==============================] - 0s 16ms/step - loss: 0.5437 - accuracy: 0.8352 - val_loss: 0.6132 - val_accuracy: 0.7667\n",
      "Epoch 65/100\n",
      "17/17 [==============================] - 0s 16ms/step - loss: 0.5368 - accuracy: 0.8398 - val_loss: 0.6071 - val_accuracy: 0.7750\n",
      "Epoch 66/100\n",
      "17/17 [==============================] - 0s 16ms/step - loss: 0.5302 - accuracy: 0.8398 - val_loss: 0.6022 - val_accuracy: 0.7667\n",
      "Epoch 67/100\n",
      "17/17 [==============================] - 0s 16ms/step - loss: 0.5238 - accuracy: 0.8417 - val_loss: 0.5964 - val_accuracy: 0.7667\n",
      "Epoch 68/100\n",
      "17/17 [==============================] - 0s 16ms/step - loss: 0.5175 - accuracy: 0.8407 - val_loss: 0.5908 - val_accuracy: 0.7667\n",
      "Epoch 69/100\n",
      "17/17 [==============================] - 0s 16ms/step - loss: 0.5115 - accuracy: 0.8417 - val_loss: 0.5860 - val_accuracy: 0.7833\n",
      "Epoch 70/100\n",
      "17/17 [==============================] - 0s 16ms/step - loss: 0.5053 - accuracy: 0.8472 - val_loss: 0.5805 - val_accuracy: 0.7833\n",
      "Epoch 71/100\n",
      "17/17 [==============================] - 0s 16ms/step - loss: 0.4997 - accuracy: 0.8481 - val_loss: 0.5760 - val_accuracy: 0.7833\n",
      "Epoch 72/100\n",
      "17/17 [==============================] - 0s 16ms/step - loss: 0.4938 - accuracy: 0.8491 - val_loss: 0.5709 - val_accuracy: 0.8000\n",
      "Epoch 73/100\n",
      "17/17 [==============================] - 0s 16ms/step - loss: 0.4884 - accuracy: 0.8500 - val_loss: 0.5664 - val_accuracy: 0.8083\n",
      "Epoch 74/100\n",
      "17/17 [==============================] - 0s 16ms/step - loss: 0.4828 - accuracy: 0.8528 - val_loss: 0.5619 - val_accuracy: 0.8083\n",
      "Epoch 75/100\n",
      "17/17 [==============================] - 0s 16ms/step - loss: 0.4776 - accuracy: 0.8537 - val_loss: 0.5572 - val_accuracy: 0.8083\n",
      "Epoch 76/100\n",
      "17/17 [==============================] - 0s 16ms/step - loss: 0.4723 - accuracy: 0.8574 - val_loss: 0.5530 - val_accuracy: 0.8083\n",
      "Epoch 77/100\n",
      "17/17 [==============================] - 0s 16ms/step - loss: 0.4671 - accuracy: 0.8565 - val_loss: 0.5490 - val_accuracy: 0.8083\n",
      "Epoch 78/100\n",
      "17/17 [==============================] - 0s 16ms/step - loss: 0.4619 - accuracy: 0.8593 - val_loss: 0.5449 - val_accuracy: 0.8000\n",
      "Epoch 79/100\n",
      "17/17 [==============================] - 0s 16ms/step - loss: 0.4569 - accuracy: 0.8611 - val_loss: 0.5412 - val_accuracy: 0.8000\n",
      "Epoch 80/100\n",
      "17/17 [==============================] - 0s 16ms/step - loss: 0.4518 - accuracy: 0.8648 - val_loss: 0.5379 - val_accuracy: 0.8083\n",
      "Epoch 81/100\n",
      "17/17 [==============================] - 0s 16ms/step - loss: 0.4468 - accuracy: 0.8685 - val_loss: 0.5345 - val_accuracy: 0.8083\n",
      "Epoch 82/100\n",
      "17/17 [==============================] - 0s 16ms/step - loss: 0.4421 - accuracy: 0.8694 - val_loss: 0.5309 - val_accuracy: 0.8167\n",
      "Epoch 83/100\n",
      "17/17 [==============================] - 0s 16ms/step - loss: 0.4374 - accuracy: 0.8713 - val_loss: 0.5273 - val_accuracy: 0.8167\n",
      "Epoch 84/100\n",
      "17/17 [==============================] - 0s 16ms/step - loss: 0.4327 - accuracy: 0.8741 - val_loss: 0.5240 - val_accuracy: 0.8167\n",
      "Epoch 85/100\n",
      "17/17 [==============================] - 0s 16ms/step - loss: 0.4283 - accuracy: 0.8759 - val_loss: 0.5209 - val_accuracy: 0.8167\n",
      "Epoch 86/100\n",
      "17/17 [==============================] - 0s 16ms/step - loss: 0.4240 - accuracy: 0.8815 - val_loss: 0.5179 - val_accuracy: 0.8167\n",
      "Epoch 87/100\n",
      "17/17 [==============================] - 0s 16ms/step - loss: 0.4195 - accuracy: 0.8852 - val_loss: 0.5151 - val_accuracy: 0.8167\n",
      "Epoch 88/100\n",
      "17/17 [==============================] - 0s 16ms/step - loss: 0.4154 - accuracy: 0.8889 - val_loss: 0.5123 - val_accuracy: 0.8167\n",
      "Epoch 89/100\n",
      "17/17 [==============================] - 0s 16ms/step - loss: 0.4112 - accuracy: 0.8907 - val_loss: 0.5095 - val_accuracy: 0.8167\n",
      "Epoch 90/100\n",
      "17/17 [==============================] - 0s 16ms/step - loss: 0.4070 - accuracy: 0.8926 - val_loss: 0.5072 - val_accuracy: 0.8167\n",
      "Epoch 91/100\n",
      "17/17 [==============================] - 0s 16ms/step - loss: 0.4028 - accuracy: 0.8907 - val_loss: 0.5042 - val_accuracy: 0.8167\n",
      "Epoch 92/100\n",
      "17/17 [==============================] - 0s 16ms/step - loss: 0.3989 - accuracy: 0.8907 - val_loss: 0.5021 - val_accuracy: 0.8167\n",
      "Epoch 93/100\n",
      "17/17 [==============================] - 0s 16ms/step - loss: 0.3948 - accuracy: 0.8926 - val_loss: 0.5000 - val_accuracy: 0.8167\n",
      "Epoch 94/100\n",
      "17/17 [==============================] - 0s 16ms/step - loss: 0.3909 - accuracy: 0.8935 - val_loss: 0.4971 - val_accuracy: 0.8167\n",
      "Epoch 95/100\n",
      "17/17 [==============================] - 0s 16ms/step - loss: 0.3872 - accuracy: 0.8963 - val_loss: 0.4947 - val_accuracy: 0.8167\n",
      "Epoch 96/100\n",
      "17/17 [==============================] - 0s 16ms/step - loss: 0.3833 - accuracy: 0.8954 - val_loss: 0.4925 - val_accuracy: 0.8167\n",
      "Epoch 97/100\n",
      "17/17 [==============================] - 0s 16ms/step - loss: 0.3797 - accuracy: 0.8963 - val_loss: 0.4906 - val_accuracy: 0.8250\n",
      "Epoch 98/100\n",
      "17/17 [==============================] - 0s 17ms/step - loss: 0.3760 - accuracy: 0.8981 - val_loss: 0.4879 - val_accuracy: 0.8167\n",
      "Epoch 99/100\n",
      "17/17 [==============================] - 0s 16ms/step - loss: 0.3724 - accuracy: 0.8963 - val_loss: 0.4856 - val_accuracy: 0.8167\n",
      "Epoch 100/100\n",
      "17/17 [==============================] - 0s 16ms/step - loss: 0.3689 - accuracy: 0.8972 - val_loss: 0.4842 - val_accuracy: 0.8167\n"
     ]
    }
   ],
   "source": [
    "train_dataset = tf.data.Dataset.from_tensor_slices((X_train, Y_train)).batch(64)\n",
    "test_dataset = tf.data.Dataset.from_tensor_slices((X_test, Y_test)).batch(64)\n",
    "history = conv_model.fit(train_dataset, epochs=100, validation_data=test_dataset)\n"
   ]
  },
  {
   "cell_type": "code",
   "execution_count": 17,
   "id": "1bf32e4f",
   "metadata": {},
   "outputs": [
    {
     "data": {
      "text/plain": [
       "{'loss': [1.7982250452041626,\n",
       "  1.7845916748046875,\n",
       "  1.7749481201171875,\n",
       "  1.7656291723251343,\n",
       "  1.7564644813537598,\n",
       "  1.7463843822479248,\n",
       "  1.7337411642074585,\n",
       "  1.7193982601165771,\n",
       "  1.7029145956039429,\n",
       "  1.6838449239730835,\n",
       "  1.661575198173523,\n",
       "  1.6364898681640625,\n",
       "  1.607306957244873,\n",
       "  1.5752323865890503,\n",
       "  1.5402476787567139,\n",
       "  1.5027742385864258,\n",
       "  1.46538507938385,\n",
       "  1.427089810371399,\n",
       "  1.388951301574707,\n",
       "  1.3515021800994873,\n",
       "  1.3149415254592896,\n",
       "  1.2794090509414673,\n",
       "  1.2447230815887451,\n",
       "  1.2108350992202759,\n",
       "  1.1766844987869263,\n",
       "  1.14607572555542,\n",
       "  1.1121878623962402,\n",
       "  1.0797717571258545,\n",
       "  1.049073576927185,\n",
       "  1.0206191539764404,\n",
       "  0.9922778010368347,\n",
       "  0.9662184119224548,\n",
       "  0.9410421252250671,\n",
       "  0.9178428053855896,\n",
       "  0.8950288891792297,\n",
       "  0.8744946122169495,\n",
       "  0.8540239930152893,\n",
       "  0.834867000579834,\n",
       "  0.8160157203674316,\n",
       "  0.7986250519752502,\n",
       "  0.7822033166885376,\n",
       "  0.7661901712417603,\n",
       "  0.7507422566413879,\n",
       "  0.7366237640380859,\n",
       "  0.722844123840332,\n",
       "  0.7102010846138,\n",
       "  0.697628915309906,\n",
       "  0.6859645247459412,\n",
       "  0.6748276352882385,\n",
       "  0.6637629270553589,\n",
       "  0.6531152725219727,\n",
       "  0.642926812171936,\n",
       "  0.6336483955383301,\n",
       "  0.6237034201622009,\n",
       "  0.6146528124809265,\n",
       "  0.6057259440422058,\n",
       "  0.5969739556312561,\n",
       "  0.5887678265571594,\n",
       "  0.5805941224098206,\n",
       "  0.5727388858795166,\n",
       "  0.5650290846824646,\n",
       "  0.5576093196868896,\n",
       "  0.5504705309867859,\n",
       "  0.5437191724777222,\n",
       "  0.5368285179138184,\n",
       "  0.5301812291145325,\n",
       "  0.5237804055213928,\n",
       "  0.5175223350524902,\n",
       "  0.5115475058555603,\n",
       "  0.5053440928459167,\n",
       "  0.49974292516708374,\n",
       "  0.4938020408153534,\n",
       "  0.48840954899787903,\n",
       "  0.4828488826751709,\n",
       "  0.4775525629520416,\n",
       "  0.4722590744495392,\n",
       "  0.4670649766921997,\n",
       "  0.461944043636322,\n",
       "  0.45690786838531494,\n",
       "  0.4517970681190491,\n",
       "  0.44678768515586853,\n",
       "  0.4421256184577942,\n",
       "  0.4373839795589447,\n",
       "  0.4327329099178314,\n",
       "  0.42825978994369507,\n",
       "  0.4240119755268097,\n",
       "  0.419470876455307,\n",
       "  0.4153955280780792,\n",
       "  0.4112474322319031,\n",
       "  0.40697887539863586,\n",
       "  0.40278488397598267,\n",
       "  0.398919939994812,\n",
       "  0.3947950303554535,\n",
       "  0.390909343957901,\n",
       "  0.38719555735588074,\n",
       "  0.38331669569015503,\n",
       "  0.3796796500682831,\n",
       "  0.37601959705352783,\n",
       "  0.3724276125431061,\n",
       "  0.3688909411430359],\n",
       " 'accuracy': [0.17314815521240234,\n",
       "  0.21388888359069824,\n",
       "  0.28425925970077515,\n",
       "  0.3361110985279083,\n",
       "  0.34351852536201477,\n",
       "  0.3759259283542633,\n",
       "  0.4055555462837219,\n",
       "  0.40648147463798523,\n",
       "  0.4277777671813965,\n",
       "  0.43611112236976624,\n",
       "  0.4462963044643402,\n",
       "  0.4481481611728668,\n",
       "  0.46666666865348816,\n",
       "  0.4749999940395355,\n",
       "  0.489814817905426,\n",
       "  0.5083333253860474,\n",
       "  0.5231481194496155,\n",
       "  0.5268518328666687,\n",
       "  0.5416666865348816,\n",
       "  0.5481481552124023,\n",
       "  0.5564814805984497,\n",
       "  0.5675926208496094,\n",
       "  0.5722222328186035,\n",
       "  0.5861111283302307,\n",
       "  0.5981481671333313,\n",
       "  0.6018518805503845,\n",
       "  0.6138888597488403,\n",
       "  0.6259258985519409,\n",
       "  0.6518518328666687,\n",
       "  0.6629629731178284,\n",
       "  0.6694444417953491,\n",
       "  0.6768518686294556,\n",
       "  0.6879629492759705,\n",
       "  0.6990740895271301,\n",
       "  0.7120370268821716,\n",
       "  0.7194444537162781,\n",
       "  0.7212963104248047,\n",
       "  0.7361111044883728,\n",
       "  0.7379629611968994,\n",
       "  0.7407407164573669,\n",
       "  0.7462962865829468,\n",
       "  0.7555555701255798,\n",
       "  0.7620370388031006,\n",
       "  0.7648147940635681,\n",
       "  0.7675926089286804,\n",
       "  0.769444465637207,\n",
       "  0.7712963223457336,\n",
       "  0.7787036895751953,\n",
       "  0.7833333611488342,\n",
       "  0.7888888716697693,\n",
       "  0.7916666865348816,\n",
       "  0.7935185432434082,\n",
       "  0.7962962985038757,\n",
       "  0.8018518686294556,\n",
       "  0.8055555820465088,\n",
       "  0.8083333373069763,\n",
       "  0.8138889074325562,\n",
       "  0.8166666626930237,\n",
       "  0.8231481313705444,\n",
       "  0.8268518447875977,\n",
       "  0.8277778029441833,\n",
       "  0.8296296000480652,\n",
       "  0.8324074149131775,\n",
       "  0.835185170173645,\n",
       "  0.8398148417472839,\n",
       "  0.8398148417472839,\n",
       "  0.8416666388511658,\n",
       "  0.8407407402992249,\n",
       "  0.8416666388511658,\n",
       "  0.8472222089767456,\n",
       "  0.8481481671333313,\n",
       "  0.8490740656852722,\n",
       "  0.8500000238418579,\n",
       "  0.8527777791023254,\n",
       "  0.8537036776542664,\n",
       "  0.8574073910713196,\n",
       "  0.8564814925193787,\n",
       "  0.8592592477798462,\n",
       "  0.8611111044883728,\n",
       "  0.864814817905426,\n",
       "  0.8685185313224792,\n",
       "  0.8694444298744202,\n",
       "  0.8712962865829468,\n",
       "  0.8740741014480591,\n",
       "  0.8759258985519409,\n",
       "  0.8814814686775208,\n",
       "  0.885185182094574,\n",
       "  0.8888888955116272,\n",
       "  0.8907407522201538,\n",
       "  0.8925926089286804,\n",
       "  0.8907407522201538,\n",
       "  0.8907407522201538,\n",
       "  0.8925926089286804,\n",
       "  0.8935185074806213,\n",
       "  0.8962963223457336,\n",
       "  0.895370364189148,\n",
       "  0.8962963223457336,\n",
       "  0.8981481194496155,\n",
       "  0.8962963223457336,\n",
       "  0.8972222208976746],\n",
       " 'val_loss': [1.786159634590149,\n",
       "  1.7769273519515991,\n",
       "  1.7673271894454956,\n",
       "  1.7577025890350342,\n",
       "  1.7474937438964844,\n",
       "  1.735507845878601,\n",
       "  1.722584843635559,\n",
       "  1.7063217163085938,\n",
       "  1.6880050897598267,\n",
       "  1.6672728061676025,\n",
       "  1.6441730260849,\n",
       "  1.6191699504852295,\n",
       "  1.590330958366394,\n",
       "  1.5582526922225952,\n",
       "  1.5226447582244873,\n",
       "  1.484054446220398,\n",
       "  1.4471747875213623,\n",
       "  1.4114376306533813,\n",
       "  1.3764735460281372,\n",
       "  1.3405719995498657,\n",
       "  1.3062732219696045,\n",
       "  1.2735675573349,\n",
       "  1.2419346570968628,\n",
       "  1.2108222246170044,\n",
       "  1.1809407472610474,\n",
       "  1.149264931678772,\n",
       "  1.119456171989441,\n",
       "  1.0892488956451416,\n",
       "  1.059486746788025,\n",
       "  1.0305664539337158,\n",
       "  1.0061806440353394,\n",
       "  0.9789592027664185,\n",
       "  0.9590908288955688,\n",
       "  0.9337876439094543,\n",
       "  0.915622353553772,\n",
       "  0.8934341073036194,\n",
       "  0.8741732239723206,\n",
       "  0.8588765263557434,\n",
       "  0.8424674868583679,\n",
       "  0.8267620205879211,\n",
       "  0.8122764825820923,\n",
       "  0.7984428405761719,\n",
       "  0.7868499755859375,\n",
       "  0.7719925045967102,\n",
       "  0.762075662612915,\n",
       "  0.7513259053230286,\n",
       "  0.7398484349250793,\n",
       "  0.7305348515510559,\n",
       "  0.7213191986083984,\n",
       "  0.7129939794540405,\n",
       "  0.7032230496406555,\n",
       "  0.6959932446479797,\n",
       "  0.6863356828689575,\n",
       "  0.6792468428611755,\n",
       "  0.672285795211792,\n",
       "  0.6651389002799988,\n",
       "  0.6581811904907227,\n",
       "  0.6515772342681885,\n",
       "  0.6449242830276489,\n",
       "  0.6386678218841553,\n",
       "  0.6323493719100952,\n",
       "  0.6247090697288513,\n",
       "  0.6189000606536865,\n",
       "  0.6132296323776245,\n",
       "  0.6070557832717896,\n",
       "  0.6022003293037415,\n",
       "  0.5963642001152039,\n",
       "  0.5908092260360718,\n",
       "  0.5859703421592712,\n",
       "  0.5804864168167114,\n",
       "  0.5760083794593811,\n",
       "  0.5709176659584045,\n",
       "  0.5664054751396179,\n",
       "  0.5618658065795898,\n",
       "  0.5571655631065369,\n",
       "  0.5529863238334656,\n",
       "  0.5489742755889893,\n",
       "  0.5449033379554749,\n",
       "  0.5411669611930847,\n",
       "  0.5378577709197998,\n",
       "  0.5344989895820618,\n",
       "  0.5309413075447083,\n",
       "  0.5272848010063171,\n",
       "  0.5239883065223694,\n",
       "  0.5209148526191711,\n",
       "  0.5179385542869568,\n",
       "  0.5151434540748596,\n",
       "  0.5122978091239929,\n",
       "  0.509544312953949,\n",
       "  0.5071866512298584,\n",
       "  0.5042261481285095,\n",
       "  0.5020667314529419,\n",
       "  0.5000169277191162,\n",
       "  0.4970893859863281,\n",
       "  0.494699090719223,\n",
       "  0.49252283573150635,\n",
       "  0.4905758500099182,\n",
       "  0.4878610074520111,\n",
       "  0.4855797588825226,\n",
       "  0.4841962158679962],\n",
       " 'val_accuracy': [0.17499999701976776,\n",
       "  0.2750000059604645,\n",
       "  0.3083333373069763,\n",
       "  0.375,\n",
       "  0.4166666567325592,\n",
       "  0.40833333134651184,\n",
       "  0.40833333134651184,\n",
       "  0.4833333194255829,\n",
       "  0.46666666865348816,\n",
       "  0.4833333194255829,\n",
       "  0.46666666865348816,\n",
       "  0.5,\n",
       "  0.5083333253860474,\n",
       "  0.5,\n",
       "  0.5416666865348816,\n",
       "  0.550000011920929,\n",
       "  0.5666666626930237,\n",
       "  0.550000011920929,\n",
       "  0.5416666865348816,\n",
       "  0.574999988079071,\n",
       "  0.574999988079071,\n",
       "  0.5583333373069763,\n",
       "  0.5583333373069763,\n",
       "  0.5833333134651184,\n",
       "  0.625,\n",
       "  0.625,\n",
       "  0.6416666507720947,\n",
       "  0.6583333611488342,\n",
       "  0.6499999761581421,\n",
       "  0.6666666865348816,\n",
       "  0.6583333611488342,\n",
       "  0.6833333373069763,\n",
       "  0.675000011920929,\n",
       "  0.6916666626930237,\n",
       "  0.6916666626930237,\n",
       "  0.6916666626930237,\n",
       "  0.699999988079071,\n",
       "  0.6916666626930237,\n",
       "  0.7083333134651184,\n",
       "  0.7083333134651184,\n",
       "  0.7083333134651184,\n",
       "  0.7083333134651184,\n",
       "  0.7083333134651184,\n",
       "  0.7166666388511658,\n",
       "  0.7250000238418579,\n",
       "  0.7250000238418579,\n",
       "  0.7250000238418579,\n",
       "  0.7250000238418579,\n",
       "  0.7250000238418579,\n",
       "  0.7250000238418579,\n",
       "  0.7416666746139526,\n",
       "  0.7416666746139526,\n",
       "  0.7333333492279053,\n",
       "  0.7333333492279053,\n",
       "  0.7416666746139526,\n",
       "  0.7666666507720947,\n",
       "  0.7666666507720947,\n",
       "  0.7583333253860474,\n",
       "  0.7583333253860474,\n",
       "  0.7583333253860474,\n",
       "  0.7583333253860474,\n",
       "  0.7583333253860474,\n",
       "  0.7583333253860474,\n",
       "  0.7666666507720947,\n",
       "  0.7749999761581421,\n",
       "  0.7666666507720947,\n",
       "  0.7666666507720947,\n",
       "  0.7666666507720947,\n",
       "  0.7833333611488342,\n",
       "  0.7833333611488342,\n",
       "  0.7833333611488342,\n",
       "  0.800000011920929,\n",
       "  0.8083333373069763,\n",
       "  0.8083333373069763,\n",
       "  0.8083333373069763,\n",
       "  0.8083333373069763,\n",
       "  0.8083333373069763,\n",
       "  0.800000011920929,\n",
       "  0.800000011920929,\n",
       "  0.8083333373069763,\n",
       "  0.8083333373069763,\n",
       "  0.8166666626930237,\n",
       "  0.8166666626930237,\n",
       "  0.8166666626930237,\n",
       "  0.8166666626930237,\n",
       "  0.8166666626930237,\n",
       "  0.8166666626930237,\n",
       "  0.8166666626930237,\n",
       "  0.8166666626930237,\n",
       "  0.8166666626930237,\n",
       "  0.8166666626930237,\n",
       "  0.8166666626930237,\n",
       "  0.8166666626930237,\n",
       "  0.8166666626930237,\n",
       "  0.8166666626930237,\n",
       "  0.8166666626930237,\n",
       "  0.824999988079071,\n",
       "  0.8166666626930237,\n",
       "  0.8166666626930237,\n",
       "  0.8166666626930237]}"
      ]
     },
     "execution_count": 17,
     "metadata": {},
     "output_type": "execute_result"
    }
   ],
   "source": [
    "history.history"
   ]
  },
  {
   "cell_type": "code",
   "execution_count": 20,
   "id": "bc236705",
   "metadata": {},
   "outputs": [
    {
     "name": "stderr",
     "output_type": "stream",
     "text": [
      "/var/folders/11/9_0bxr017h92r81nbztybj540000gn/T/ipykernel_1086/2703544811.py:3: SettingWithCopyWarning: \n",
      "A value is trying to be set on a copy of a slice from a DataFrame\n",
      "\n",
      "See the caveats in the documentation: https://pandas.pydata.org/pandas-docs/stable/user_guide/indexing.html#returning-a-view-versus-a-copy\n",
      "  df_loss.rename(columns={'loss':'train','val_loss':'validation'},inplace=True)\n",
      "/var/folders/11/9_0bxr017h92r81nbztybj540000gn/T/ipykernel_1086/2703544811.py:5: SettingWithCopyWarning: \n",
      "A value is trying to be set on a copy of a slice from a DataFrame\n",
      "\n",
      "See the caveats in the documentation: https://pandas.pydata.org/pandas-docs/stable/user_guide/indexing.html#returning-a-view-versus-a-copy\n",
      "  df_acc.rename(columns={'accuracy':'train','val_accuracy':'validation'},inplace=True)\n"
     ]
    },
    {
     "data": {
      "text/plain": [
       "[Text(0.5, 0, 'Epoch'), Text(0, 0.5, 'Accuracy')]"
      ]
     },
     "execution_count": 20,
     "metadata": {},
     "output_type": "execute_result"
    },
    {
     "data": {
      "image/png": "[encoded data removed]",
      "text/plain": [
       "<Figure size 864x576 with 1 Axes>"
      ]
     },
     "metadata": {
      "needs_background": "light"
     },
     "output_type": "display_data"
    },
    {
     "data": {
      "image/png": "[encoded data removed]",
      "text/plain": [
       "<Figure size 864x576 with 1 Axes>"
      ]
     },
     "metadata": {
      "needs_background": "light"
     },
     "output_type": "display_data"
    }
   ],
   "source": [
    "df_loss_acc = pd.DataFrame(history.history)\n",
    "df_loss = df_loss_acc[['loss', 'val_loss']]\n",
    "df_loss.rename(columns={'loss':'train','val_loss':'validation'},inplace=True)\n",
    "df_acc= df_loss_acc[['accuracy','val_accuracy']]\n",
    "df_acc.rename(columns={'accuracy':'train','val_accuracy':'validation'},inplace=True)\n",
    "df_loss.plot(title='Model loss',figsize=(12,8)).set(xlabel='Epoch',ylabel='Loss')\n",
    "df_acc.plot(title='Model Accuracy',figsize=(12,8)).set(xlabel='Epoch',ylabel='Accuracy')"
   ]
  },
  {
   "cell_type": "code",
   "execution_count": null,
   "id": "e153dbb4",
   "metadata": {},
   "outputs": [],
   "source": []
  },
  {
   "cell_type": "code",
   "execution_count": null,
   "id": "70c54a32",
   "metadata": {},
   "outputs": [],
   "source": []
  },
  {
   "cell_type": "code",
   "execution_count": null,
   "id": "56869815",
   "metadata": {},
   "outputs": [],
   "source": []
  },
  {
   "cell_type": "code",
   "execution_count": null,
   "id": "af7e4ca7",
   "metadata": {},
   "outputs": [],
   "source": []
  },
  {
   "cell_type": "code",
   "execution_count": null,
   "id": "6d6d23ff",
   "metadata": {},
   "outputs": [],
   "source": []
  },
  {
   "cell_type": "code",
   "execution_count": null,
   "id": "b693a4fe",
   "metadata": {},
   "outputs": [],
   "source": []
  }
 ],
 "metadata": {
  "kernelspec": {
   "display_name": "Python 3 (ipykernel)",
   "language": "python",
   "name": "python3"
  },
  "language_info": {
   "codemirror_mode": {
    "name": "ipython",
    "version": 3
   },
   "file_extension": ".py",
   "mimetype": "text/x-python",
   "name": "python",
   "nbconvert_exporter": "python",
   "pygments_lexer": "ipython3",
   "version": "3.9.12"
  }
 },
 "nbformat": 4,
 "nbformat_minor": 5
}
